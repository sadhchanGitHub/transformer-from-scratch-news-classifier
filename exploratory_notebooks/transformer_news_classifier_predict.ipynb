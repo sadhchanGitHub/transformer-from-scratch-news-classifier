{
 "cells": [
  {
   "cell_type": "markdown",
   "id": "intro-markdown-predict",
   "metadata": {},
   "source": [
    "# Transformer News Classifier: Prediction Notebook\n",
    "\n",
    "This notebook demonstrates how to use the trained Transformer model to make predictions on new headlines. It uses the functions from the custom `transformer_news` Python package.\n",
    "\n",
    "**Note:** Before running, ensure trained model (`transformer_news_classifier_best.pth`) and vocabulary (`newsclassification_vocab.pth`) in the `models/` directory are present. You also must have installed the package in editable mode:\n",
    "```bash\n",
    "pip install -e .\n",
    "```"
   ]
  },
  {
   "cell_type": "markdown",
   "id": "imports-markdown-predict",
   "metadata": {},
   "source": [
    "### 1. Imports\n",
    "\n",
    "We import the `predict` module from our package, which contains all the necessary logic for loading artifacts and running inference."
   ]
  },
  {
   "cell_type": "code",
   "execution_count": 6,
   "id": "imports-code-predict",
   "metadata": {},
   "outputs": [],
   "source": [
    "# Standard Libraries\n",
    "import logging\n",
    "import sys\n",
    "import torch\n",
    "\n",
    "# Import the prediction functions from our package\n",
    "from transformer_news import predict, config"
   ]
  },
  {
   "cell_type": "markdown",
   "id": "logging-markdown-predict",
   "metadata": {},
   "source": [
    "### 2. Setup Logging\n",
    "\n",
    "We'll configure logging to see the status messages from our prediction module."
   ]
  },
  {
   "cell_type": "code",
   "execution_count": 7,
   "id": "logging-code-predict",
   "metadata": {},
   "outputs": [],
   "source": [
    "logging.basicConfig(\n",
    "    level=logging.INFO,\n",
    "    format=\"%(asctime)s - %(levelname)s - %(message)s\",\n",
    "    # Force logging to be sent to the notebook's stdout\n",
    "    handlers=[\n",
    "        logging.StreamHandler(sys.stdout)\n",
    "    ]\n",
    ")"
   ]
  },
  {
   "cell_type": "markdown",
   "id": "high-level-markdown",
   "metadata": {},
   "source": [
    "### 3. High-Level Prediction (Using `main`)\n",
    "\n",
    "The simplest way to get a prediction is to use the `predict.main()` function. This orchestrates the entire process: loading the vocab, loading the model, and running the prediction."
   ]
  },
  {
   "cell_type": "code",
   "execution_count": 8,
   "id": "high-level-code",
   "metadata": {},
   "outputs": [
    {
     "name": "stderr",
     "output_type": "stream",
     "text": [
      "2025-08-19 13:47:37,949 - ▶ Prediction run started...\n",
      "2025-08-19 13:47:37,951 -    News Article Headline: Will AI make language dubbing easy for film and TV?\n",
      "2025-08-19 13:47:38,014 - ✅ Vocab loaded from /home/hyd_in_zrh/projects/personal_projects/transformer-from-scratch-news-classifier/transformer-from-scratch-news-classifier/models/newsclassification_vocab.pth | Size: 11571\n",
      "2025-08-19 13:47:39,192 - ✅ Model weights loaded from /home/hyd_in_zrh/projects/personal_projects/transformer-from-scratch-news-classifier/transformer-from-scratch-news-classifier/models/transformer_news_classifier_best.pth.\n",
      "2025-08-19 13:47:39,200 - \n",
      "Article: 'Will AI make language dubbing easy for film and TV?'\n",
      "2025-08-19 13:47:39,201 - Predicted Category: Sci/Tech\n",
      "\n"
     ]
    }
   ],
   "source": [
    "news_headline = \"Will AI make language dubbing easy for film and TV?\"\n",
    "predict.main(news_headline)"
   ]
  },
  {
   "cell_type": "markdown",
   "id": "interactive-markdown",
   "metadata": {},
   "source": [
    "### 4. Interactive Prediction (Using Individual Functions)\n",
    "\n",
    "For more interactive use cases, like in a notebook, it can be useful to call the individual functions from the `predict` module. This allows us to load the model and vocabulary once, and then run predictions on multiple headlines efficiently."
   ]
  },
  {
   "cell_type": "markdown",
   "id": "interactive-load-markdown",
   "metadata": {},
   "source": [
    "#### Step 4a: Load the Artifacts\n",
    "\n",
    "First, we load the vocabulary and the trained model. Notice how we use the helper functions from our `predict` module."
   ]
  },
  {
   "cell_type": "code",
   "execution_count": 9,
   "id": "interactive-load-code",
   "metadata": {},
   "outputs": [
    {
     "name": "stderr",
     "output_type": "stream",
     "text": [
      "2025-08-19 13:47:39,261 - ✅ Vocab loaded from /home/hyd_in_zrh/projects/personal_projects/transformer-from-scratch-news-classifier/transformer-from-scratch-news-classifier/models/newsclassification_vocab.pth | Size: 11571\n",
      "2025-08-19 13:47:39,422 - ✅ Model weights loaded from /home/hyd_in_zrh/projects/personal_projects/transformer-from-scratch-news-classifier/transformer-from-scratch-news-classifier/models/transformer_news_classifier_best.pth.\n"
     ]
    }
   ],
   "source": [
    "# Load vocab and get its size\n",
    "vocab, vocab_size, _ = predict.get_vocab()\n",
    "\n",
    "# Load the inference model, passing the vocab size to it\n",
    "inference_model = predict.get_model(vocab_size)"
   ]
  },
  {
   "cell_type": "markdown",
   "id": "interactive-predict-markdown",
   "metadata": {},
   "source": [
    "#### Step 4b: Run Predictions on a Batch of Headlines\n",
    "\n",
    "Now that the model and vocab are loaded into memory, we can create a list of headlines and loop through them, calling the core `predict.exec_predict` function for each one."
   ]
  },
  {
   "cell_type": "code",
   "execution_count": 10,
   "id": "interactive-predict-code",
   "metadata": {},
   "outputs": [
    {
     "name": "stdout",
     "output_type": "stream",
     "text": [
      "Article  : 'The US economy is a puzzle but the pieces aren't fitting together'\n",
      "Predicted: Sci/Tech\n",
      "\n",
      "Article  : 'Premier League: Chelsea held by Crystal Palace & Forest beat Brentford - reaction'\n",
      "Predicted: Sci/Tech\n",
      "\n",
      "Article  : 'Putin agreed to security guarantees for Ukraine being part of potential peace deal, US envoy says'\n",
      "Predicted: Sci/Tech\n",
      "\n",
      "Article  : 'Breakthrough in quantum computing promises to revolutionize data encryption'\n",
      "Predicted: Sci/Tech\n",
      "\n"
     ]
    }
   ],
   "source": [
    "headlines_to_test = [\n",
    "    \"The US economy is a puzzle but the pieces aren't fitting together\",\n",
    "    \"Premier League: Chelsea held by Crystal Palace & Forest beat Brentford - reaction\",\n",
    "    \"Putin agreed to security guarantees for Ukraine being part of potential peace deal, US envoy says\",\n",
    "    \"Breakthrough in quantum computing promises to revolutionize data encryption\"\n",
    "]\n",
    "\n",
    "# Get the tokenizer from the predict module\n",
    "tokenizer = predict.get_tokenizer(\"basic_english\")\n",
    "\n",
    "for headline in headlines_to_test:\n",
    "    predicted_category = predict.exec_predict(\n",
    "        text=headline,\n",
    "        model=inference_model,\n",
    "        vocab=vocab,\n",
    "        tokenizer=tokenizer,\n",
    "        device=config.DEVICE\n",
    "    )\n",
    "    print(f\"Article  : '{headline}'\")\n",
    "    print(f\"Predicted: {predicted_category}\\n\")"
   ]
  }
 ],
 "metadata": {
  "kernelspec": {
   "display_name": "transformer_news",
   "language": "python",
   "name": "transformer_news"
  },
  "language_info": {
   "codemirror_mode": {
    "name": "ipython",
    "version": 3
   },
   "file_extension": ".py",
   "mimetype": "text/x-python",
   "name": "python",
   "nbconvert_exporter": "python",
   "pygments_lexer": "ipython3",
   "version": "3.11.13"
  }
 },
 "nbformat": 4,
 "nbformat_minor": 5
}
